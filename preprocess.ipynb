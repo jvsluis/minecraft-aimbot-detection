{
 "cells": [
  {
   "cell_type": "markdown",
   "metadata": {},
   "source": [
    "# Preprocess the raw dataset\n",
    "\n",
    "Dataset is available at Kaggle: https://www.kaggle.com/datasets/finalboolean/aim-dataset-for-minecraft"
   ]
  },
  {
   "cell_type": "code",
   "execution_count": null,
   "metadata": {},
   "outputs": [],
   "source": [
    "import pandas as pd\n",
    "import gc\n",
    "from os import listdir\n",
    "from os.path import isfile, join\n",
    "import tqdm\n",
    "import sys"
   ]
  },
  {
   "cell_type": "code",
   "execution_count": null,
   "metadata": {},
   "outputs": [],
   "source": [
    "cheater_data = pd.read_csv(\"data/cheater.csv\")\n",
    "legit_data = pd.read_csv(\"data/legit.csv\")"
   ]
  },
  {
   "cell_type": "code",
   "execution_count": null,
   "metadata": {},
   "outputs": [],
   "source": [
    "# Sort the datasets into their groups with label\n",
    "# Then free the memory associated with the dataframes\n",
    "cheat_groups = dict()\n",
    "for val in cheater_data.values:\n",
    "    if val[0] not in cheat_groups:\n",
    "        cheat_groups[val[0]] = ([], 1)\n",
    "    cheat_groups[val[0]][0].append(val[1:])\n",
    "print(\"Finished sorting cheat_groups\")\n",
    "\n",
    "legit_groups = dict()\n",
    "for val in legit_data.values:\n",
    "    if val[0] not in legit_groups:\n",
    "        legit_groups[val[0]] = ([], 0)\n",
    "    legit_groups[val[0]][0].append(val[1:])\n",
    "print(\"Finished sorting legit_groups\")\n",
    "\n",
    "# This will free the memory from the two large dataframes\n",
    "del cheater_data\n",
    "del legit_data\n",
    "gc.collect()\n",
    "cheater_data = pd.DataFrame()\n",
    "legit_data = pd.DataFrame()"
   ]
  },
  {
   "cell_type": "code",
   "execution_count": null,
   "metadata": {},
   "outputs": [],
   "source": [
    "# Write the data to the processed_data folder\n",
    "import os\n",
    "if not os.path.exists(\"./processed_data\"):\n",
    "    os.makedirs(\"./processed_data\")\n",
    "os.makedirs(\"./processed_data/cheater\")\n",
    "os.makedirs(\"./processed_data/legit\")\n",
    "\n",
    "def write_groups(groups, category):\n",
    "    with tqdm.tqdm(total=len(groups), file=sys.stdout) as pbar:\n",
    "        pbar.set_description(f'Processing: {category}')\n",
    "        for group in groups:\n",
    "            f = open(f\"./processed_data/{category}/{group}.csv\", \"w+\")\n",
    "            \n",
    "            # Sort the row by time stamp to ensure the samples are in order\n",
    "            groups[group][0].sort(key=lambda x: x[13])\n",
    "            \n",
    "            # Write the csv header\n",
    "            f.write(\"yaw,pitch,delta_yaw,delta_pitch,accel_yaw,accel_pitch,target_x,target_y,target_z,position_x,position_y,position_z,sensitivity,time,new_sequence\\n\")\n",
    "            for i, sample in enumerate(groups[group][0]):\n",
    "                f.write(','.join(map(str, sample)) + \"\\n\")\n",
    "            f.close()\n",
    "            pbar.update(1)\n",
    "    \n",
    "write_groups(cheat_groups, \"cheater\")\n",
    "write_groups(legit_groups, \"legit\")"
   ]
  }
 ],
 "metadata": {
  "language_info": {
   "name": "python"
  }
 },
 "nbformat": 4,
 "nbformat_minor": 2
}
